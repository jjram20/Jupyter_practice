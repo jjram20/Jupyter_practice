{
 "cells": [
  {
   "cell_type": "markdown",
   "id": "c0a2c0ab-da0f-4236-ab3a-c7f369e209d3",
   "metadata": {},
   "source": [
    "# Data Science Tools and Ecosystem"
   ]
  },
  {
   "cell_type": "markdown",
   "id": "f4711938-9fa8-45aa-9318-09ad2c0d056f",
   "metadata": {},
   "source": [
    "In this notebook, Data Science Tools and Ecosystem are summarized."
   ]
  },
  {
   "cell_type": "markdown",
   "id": "0ce37c00-e1b4-4550-a87d-9a41a978cc09",
   "metadata": {},
   "source": [
    "Objectives:\n",
    "<ul>\n",
    "    <li>Jupyter</li>\n",
    "    <li>Markdown</li>\n",
    "    <li>Comments</li>\n",
    "    <li>Python</li>\n",
    "    <li>Unit conversion</li>\n",
    "</ul>"
   ]
  },
  {
   "cell_type": "markdown",
   "id": "64069099-2b80-410f-bf34-d1bb7c574ccb",
   "metadata": {},
   "source": [
    "Some of the popular languages that Data Scientists use are:\n",
    "<ol>\n",
    "<li>Python</li>\n",
    "<li>R</li>\n",
    "<li>Java</li>\n",
    "</ol>"
   ]
  },
  {
   "cell_type": "markdown",
   "id": "f9b11bc0-adf2-48e5-b0ab-97c1cc1d2df9",
   "metadata": {},
   "source": [
    "Some of the commonly used libraries used by Data Scientists include:\n",
    "<ol>\n",
    "<li>Numpy</li>\n",
    "<li>Scipy</li>\n",
    "<li>Matplotlib</li>\n",
    "</ol>"
   ]
  },
  {
   "cell_type": "markdown",
   "id": "37122780-5100-4e64-b126-78af765cfc89",
   "metadata": {},
   "source": [
    "<table>\n",
    "    <thead>\n",
    "    <tr><td>Data Science Tools</td></tr>\n",
    "    </thead>\n",
    "    <tr><td>Spyder</td></tr>\n",
    "    <tr><td>RStudio</td></tr>\n",
    "    <tr><td>Jupyter</td></tr>\n",
    "</table>"
   ]
  },
  {
   "cell_type": "markdown",
   "id": "b4fc6dd1-627b-4816-8e51-be59b0c860e3",
   "metadata": {},
   "source": [
    "### Below are a few examples of evaluating arithmetic expressions in Python"
   ]
  },
  {
   "cell_type": "code",
   "execution_count": 1,
   "id": "5ac216c0-7b5e-42f3-ac06-8d45668dd4ad",
   "metadata": {},
   "outputs": [
    {
     "data": {
      "text/plain": [
       "17"
      ]
     },
     "execution_count": 1,
     "metadata": {},
     "output_type": "execute_result"
    }
   ],
   "source": [
    "# This a simple arithmetic expression to mutiply then add integers\n",
    "(3*4)+5"
   ]
  },
  {
   "cell_type": "code",
   "execution_count": 2,
   "id": "4b52c1f8-33d9-41c9-8999-a091b7bbabf4",
   "metadata": {},
   "outputs": [
    {
     "data": {
      "text/plain": [
       "3.3333333333333335"
      ]
     },
     "execution_count": 2,
     "metadata": {},
     "output_type": "execute_result"
    }
   ],
   "source": [
    "# This will convert 200 minutes to hours by diving by 60\n",
    "200 / 60"
   ]
  },
  {
   "cell_type": "code",
   "execution_count": null,
   "id": "0444a0b0-3755-4cad-9d77-6e86c4185105",
   "metadata": {},
   "outputs": [],
   "source": []
  }
 ],
 "metadata": {
  "kernelspec": {
   "display_name": "Python 3 (ipykernel)",
   "language": "python",
   "name": "python3"
  },
  "language_info": {
   "codemirror_mode": {
    "name": "ipython",
    "version": 3
   },
   "file_extension": ".py",
   "mimetype": "text/x-python",
   "name": "python",
   "nbconvert_exporter": "python",
   "pygments_lexer": "ipython3",
   "version": "3.11.9"
  }
 },
 "nbformat": 4,
 "nbformat_minor": 5
}
